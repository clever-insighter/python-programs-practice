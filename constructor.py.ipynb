{
 "cells": [
  {
   "cell_type": "markdown",
   "id": "b3c73dbc",
   "metadata": {},
   "source": [
    "# constructor"
   ]
  },
  {
   "cell_type": "code",
   "execution_count": 1,
   "id": "4c6c4a7c",
   "metadata": {},
   "outputs": [
    {
     "name": "stdout",
     "output_type": "stream",
     "text": [
      "person details:\n",
      "chinnu\n",
      "23\n"
     ]
    }
   ],
   "source": [
    "class Person:\n",
    "    def __init__(self,name,age):\n",
    "        self.name=name\n",
    "        self.age=age\n",
    "        print(\"person details:\")\n",
    "s=Person(\"chinnu\",23)\n",
    "print(s.name)\n",
    "print(s.age)"
   ]
  },
  {
   "cell_type": "markdown",
   "id": "aa778fdf",
   "metadata": {},
   "source": [
    "    In the above program find that name and age "
   ]
  },
  {
   "cell_type": "code",
   "execution_count": 2,
   "id": "a4de5186",
   "metadata": {},
   "outputs": [
    {
     "name": "stdout",
     "output_type": "stream",
     "text": [
      "student details:\n",
      "chinnu\n",
      "23\n",
      "mpc\n"
     ]
    }
   ],
   "source": [
    "class Student:\n",
    "    def __init__(self,name,id,group):\n",
    "        self.name=name\n",
    "        self.id=id\n",
    "        self.group=group\n",
    "        print(\"student details:\")\n",
    "s=Student(\"chinnu\",23,\"mpc\") \n",
    "print(s.name)\n",
    "print(s.id)\n",
    "print(s.group)"
   ]
  },
  {
   "cell_type": "markdown",
   "id": "b4ea4cd6",
   "metadata": {},
   "source": [
    "    In the above program find that student details"
   ]
  },
  {
   "cell_type": "code",
   "execution_count": 3,
   "id": "4b438dad",
   "metadata": {},
   "outputs": [
    {
     "name": "stdout",
     "output_type": "stream",
     "text": [
      "hello my name is chinnu\n",
      "my age is 23\n"
     ]
    }
   ],
   "source": [
    "class Person:\n",
    "    def __init__(self,name,age):\n",
    "        self.name=name\n",
    "        self.age=age\n",
    "    def myfun(self):\n",
    "        print(\"hello my name is\",self.name)\n",
    "        print(\"my age is\",self.age)\n",
    "s=Person(\"chinnu\",23)\n",
    "s.myfun()"
   ]
  },
  {
   "cell_type": "markdown",
   "id": "2811a5a1",
   "metadata": {},
   "source": [
    "    In the above program find that the details of a "
   ]
  },
  {
   "cell_type": "code",
   "execution_count": 4,
   "id": "d4992b94",
   "metadata": {},
   "outputs": [
    {
     "name": "stdout",
     "output_type": "stream",
     "text": [
      "A class\n"
     ]
    },
    {
     "data": {
      "text/plain": [
       "<__main__.B at 0x5d676d0>"
      ]
     },
     "execution_count": 4,
     "metadata": {},
     "output_type": "execute_result"
    }
   ],
   "source": [
    "class A:\n",
    "    def __init__(self):\n",
    "        print(\"A class\")\n",
    "class B(A):\n",
    "    pass\n",
    "B()"
   ]
  },
  {
   "cell_type": "code",
   "execution_count": 5,
   "id": "bee240f9",
   "metadata": {},
   "outputs": [
    {
     "name": "stdout",
     "output_type": "stream",
     "text": [
      "B class\n",
      "A class\n"
     ]
    },
    {
     "data": {
      "text/plain": [
       "<__main__.B at 0x5d67c40>"
      ]
     },
     "execution_count": 5,
     "metadata": {},
     "output_type": "execute_result"
    }
   ],
   "source": [
    "class A:\n",
    "    def __init__(self):\n",
    "        print(\"A class\")\n",
    "class B(A):\n",
    "    def __init__(self):\n",
    "        print(\"B class\")\n",
    "        super().__init__()\n",
    "B()        "
   ]
  },
  {
   "cell_type": "code",
   "execution_count": 6,
   "id": "2c7cf8a6",
   "metadata": {},
   "outputs": [
    {
     "name": "stdout",
     "output_type": "stream",
     "text": [
      "A class\n",
      "B class\n"
     ]
    },
    {
     "data": {
      "text/plain": [
       "<__main__.B at 0x5fd4220>"
      ]
     },
     "execution_count": 6,
     "metadata": {},
     "output_type": "execute_result"
    }
   ],
   "source": [
    "class A:\n",
    "    def __init__(self):\n",
    "        print(\"A class\")\n",
    "        super().__init__()\n",
    "class B:\n",
    "    def __init__(self):\n",
    "        print(\"B class\")   # printing an string var\n",
    "        super().__init__()\n",
    "A()\n",
    "B()"
   ]
  },
  {
   "cell_type": "code",
   "execution_count": 7,
   "id": "8047e154",
   "metadata": {},
   "outputs": [
    {
     "name": "stdout",
     "output_type": "stream",
     "text": [
      "1) 10\n",
      "hi\n",
      "2 1\n",
      "3 10\n",
      "4) 1\n",
      "5) 2\n",
      "6) 10\n",
      "7) 1\n",
      "8) 2\n",
      "9) 3\n",
      "10) 10\n",
      "11 1\n",
      "12 2\n",
      "13 3\n"
     ]
    }
   ],
   "source": [
    "class Myclass:\n",
    "    a=10\n",
    "    print(\"1)\",a)\n",
    "    def __init__(self):\n",
    "        self.x=1\n",
    "        print(\"2\",self.x)\n",
    "        print(\"3\",Myclass.a)\n",
    "    def f():\n",
    "        \n",
    "        print(\"hi\")\n",
    "    f()\n",
    "    def f1(self):\n",
    "        self.y=2\n",
    "        print(\"4)\",self.x)\n",
    "        print(\"5)\",self.y)\n",
    "        print(\"6)\",Myclass.a)\n",
    "    def f2(self):\n",
    "        self.z=3\n",
    "        print(\"7)\",self.x) \n",
    "        print(\"8)\",self.y)\n",
    "        print(\"9)\",self.z)\n",
    "        print(\"10)\",Myclass.a)\n",
    "m=Myclass()\n",
    "m.f1()\n",
    "m.f2()\n",
    "print(\"11\",m.x)\n",
    "print(\"12\",m.y)\n",
    "print(\"13\",m.z)"
   ]
  },
  {
   "cell_type": "code",
   "execution_count": 8,
   "id": "78f22c24",
   "metadata": {},
   "outputs": [
    {
     "name": "stdout",
     "output_type": "stream",
     "text": [
      "10\n",
      "2\n",
      "10\n"
     ]
    },
    {
     "data": {
      "text/plain": [
       "<__main__.My_fun at 0x5fd4940>"
      ]
     },
     "execution_count": 8,
     "metadata": {},
     "output_type": "execute_result"
    }
   ],
   "source": [
    "class My_fun:\n",
    "    a=10        # class or static variable\n",
    "    print(a)    # print a variable in the class\n",
    "    def __init__(self):   # special method called constructor\n",
    "        self.x=2    # creating an instance variable x\n",
    "        print(self.x)    #  printing instance variable\n",
    "        print(My_fun.a)  # accessing class or static variable\n",
    "My_fun()                 # creating  method  object     \n"
   ]
  },
  {
   "cell_type": "markdown",
   "id": "be039d23",
   "metadata": {},
   "source": [
    "    In the above program first to cteate a class using class keyword and create a class name as my_fun then assign a variable a=10 i.e class variable now define a class with using def keyword with self parameter(self parameter is the reference of the current object creating an instance variable x and printing instance variable\n",
    "    printing instance variable creating method object\n",
    "    "
   ]
  },
  {
   "cell_type": "code",
   "execution_count": 9,
   "id": "ea7f8e3b",
   "metadata": {},
   "outputs": [
    {
     "name": "stdout",
     "output_type": "stream",
     "text": [
      "10\n",
      "hi\n",
      "1\n",
      "2\n",
      "10\n"
     ]
    },
    {
     "data": {
      "text/plain": [
       "<__main__.My_fun at 0x5fd4ce8>"
      ]
     },
     "execution_count": 9,
     "metadata": {},
     "output_type": "execute_result"
    }
   ],
   "source": [
    "class My_fun:\n",
    "    a=10\n",
    "    print(a)\n",
    "    def __init__(self):\n",
    "        self.x=1\n",
    "        self.y=2\n",
    "        print(self.x)\n",
    "        print(self.y)\n",
    "        print(My_fun.a)\n",
    "    def f():             # class or static  method\n",
    "        print(\"hi\")\n",
    "    f()\n",
    "My_fun()    "
   ]
  },
  {
   "cell_type": "markdown",
   "id": "f9664da8",
   "metadata": {},
   "source": [
    "    We are find that static variable and global variable"
   ]
  },
  {
   "cell_type": "code",
   "execution_count": 10,
   "id": "1c6dd2a4",
   "metadata": {},
   "outputs": [
    {
     "name": "stdout",
     "output_type": "stream",
     "text": [
      "20\n",
      "50\n",
      "50\n",
      "60\n",
      "10\n"
     ]
    }
   ],
   "source": [
    "x=10   # global variable\n",
    "class Myclass:\n",
    "    x=20       #class/static variable\n",
    "    print(x)\n",
    "    def f(x):     # class method or static method\n",
    "        print(x)\n",
    "        print(Myclass.x)\n",
    "    def f(self):     #instance method\n",
    "        self.a=50     #instance variable\n",
    "        print(self.a)\n",
    "m=Myclass()   # an object of a class for a classname through object\n",
    "m.f()        # creating  an instance method by the reference of the object\n",
    "print(m.a)\n",
    "m.a=60\n",
    "print(m.a)\n",
    "print(x)"
   ]
  },
  {
   "cell_type": "markdown",
   "id": "98cd23ce",
   "metadata": {},
   "source": [
    "    In the above program  now assign a variable i.e is global variable because of i.e outside of the function.\n",
    "    now create a class with class and class name as myclass\n",
    "    creting a static variable assign a value .printing a class variable\n",
    "    creating a function with name f parameter x .accesing claas or static variable\n",
    "    creating a reference method .creating an object of a class for class name my class with reference variable\n",
    "    creating an instance method by the reference of the object"
   ]
  },
  {
   "cell_type": "code",
   "execution_count": 11,
   "id": "1c25e134",
   "metadata": {},
   "outputs": [
    {
     "name": "stdout",
     "output_type": "stream",
     "text": [
      "suri surender\n"
     ]
    }
   ],
   "source": [
    "class Person:\n",
    "    def __init__(self,fname,lname):\n",
    "        self.firstname=fname\n",
    "        self.lastname=lname\n",
    "    def printname(self):\n",
    "        print(self.firstname,self.lastname)\n",
    "x=Person(\"suri\",\"surender\")\n",
    "x.printname()"
   ]
  },
  {
   "cell_type": "markdown",
   "id": "5cf8132d",
   "metadata": {},
   "source": [
    "    we are finding the data of a first name and last name"
   ]
  },
  {
   "cell_type": "code",
   "execution_count": 15,
   "id": "646f2342",
   "metadata": {},
   "outputs": [
    {
     "name": "stdout",
     "output_type": "stream",
     "text": [
      "suri surender\n",
      "chinnu sushanth\n"
     ]
    }
   ],
   "source": [
    "class Person:\n",
    "    def __init__(self,fname,lname):\n",
    "        self.firstname=fname\n",
    "        self.lastname=lname\n",
    "    def printname(self):\n",
    "        print(self.firstname,self.lastname)\n",
    "x=Person(\"suri\",\"surender\")\n",
    "x.printname()\n",
    "y=Person(\"chinnu\",\"sushanth\")\n",
    "y.printname()\n",
    "        \n",
    "        "
   ]
  },
  {
   "cell_type": "markdown",
   "id": "01029daf",
   "metadata": {},
   "source": [
    "    In the above program finding the firstname and lastname"
   ]
  },
  {
   "cell_type": "code",
   "execution_count": 13,
   "id": "5b76eba5",
   "metadata": {},
   "outputs": [
    {
     "name": "stdout",
     "output_type": "stream",
     "text": [
      "A class\n"
     ]
    }
   ],
   "source": [
    "class A:\n",
    "    def __init__(self):\n",
    "        print(\"A class\")\n",
    "class B(A):\n",
    "    def __init__(self):\n",
    "        print(\"B class\")\n",
    "c = A()\n"
   ]
  },
  {
   "cell_type": "markdown",
   "id": "409a74d8",
   "metadata": {},
   "source": [
    "    In the above program find that method is calling print the A class"
   ]
  },
  {
   "cell_type": "code",
   "execution_count": 14,
   "id": "f87240d8",
   "metadata": {},
   "outputs": [
    {
     "name": "stdout",
     "output_type": "stream",
     "text": [
      "A class\n",
      "B class\n"
     ]
    }
   ],
   "source": [
    "class A:\n",
    "    def fun1(self):\n",
    "        print(\"A class\")\n",
    "class B(A):\n",
    "    def fun2(self):\n",
    "        print(\"B class\")\n",
    "O = B()\n",
    "O.fun1()\n",
    "O.fun2()\n",
    "       "
   ]
  },
  {
   "cell_type": "markdown",
   "id": "5ebd84bf",
   "metadata": {},
   "source": [
    "    In the code find that in the constructor of a class print the A class andB class and calling\n",
    "    the function"
   ]
  },
  {
   "cell_type": "code",
   "execution_count": null,
   "id": "7906fa75",
   "metadata": {},
   "outputs": [],
   "source": []
  }
 ],
 "metadata": {
  "kernelspec": {
   "display_name": "Python 3 (ipykernel)",
   "language": "python",
   "name": "python3"
  },
  "language_info": {
   "codemirror_mode": {
    "name": "ipython",
    "version": 3
   },
   "file_extension": ".py",
   "mimetype": "text/x-python",
   "name": "python",
   "nbconvert_exporter": "python",
   "pygments_lexer": "ipython3",
   "version": "3.9.9"
  }
 },
 "nbformat": 4,
 "nbformat_minor": 5
}
